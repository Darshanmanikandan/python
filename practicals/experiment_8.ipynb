{
 "cells": [
  {
   "cell_type": "code",
   "execution_count": 1,
   "id": "bd04ee4a-dbbd-4ced-b322-8f94bc720301",
   "metadata": {},
   "outputs": [
    {
     "name": "stdin",
     "output_type": "stream",
     "text": [
      "Enter the numerator:  23\n",
      "Enter the denominator:  0\n"
     ]
    },
    {
     "name": "stdout",
     "output_type": "stream",
     "text": [
      "Error: Cannot divide by zero.\n"
     ]
    }
   ],
   "source": [
    "numerator = float(input(\"Enter the numerator: \")) \n",
    "denominator = float(input(\"Enter the denominator: \")) \n",
    "try: \n",
    "    result = numerator / denominator \n",
    "except ZeroDivisionError: \n",
    "    print(\"Error: Cannot divide by zero.\") \n",
    "else: \n",
    "    print(f\"The result is: {result}\")"
   ]
  },
  {
   "cell_type": "code",
   "execution_count": 2,
   "id": "06dc6275-2e92-4a09-b4cb-2e214ed1b83b",
   "metadata": {},
   "outputs": [
    {
     "name": "stdin",
     "output_type": "stream",
     "text": [
      "Enter the index to view the mark:  3\n"
     ]
    },
    {
     "name": "stdout",
     "output_type": "stream",
     "text": [
      "The mark at index 3 is: 93\n"
     ]
    }
   ],
   "source": [
    "marks = [80, 68, 55, 93, 90]  \n",
    "try: \n",
    "    index = int(input(\"Enter the index to view the mark: \")) \n",
    "    mark = marks[index] \n",
    "    print(f\"The mark at index {index} is: {mark}\") \n",
    "except IndexError: \n",
    "    print(\"Invalid index entered. Please try again.\")"
   ]
  },
  {
   "cell_type": "code",
   "execution_count": 3,
   "id": "99e04c92-5522-4089-979a-94ee88813933",
   "metadata": {},
   "outputs": [
    {
     "name": "stdin",
     "output_type": "stream",
     "text": [
      "Enter a number:  darshan\n"
     ]
    },
    {
     "name": "stdout",
     "output_type": "stream",
     "text": [
      "Please enter a valid number.\n"
     ]
    }
   ],
   "source": [
    "try: \n",
    "    number = int(input(\"Enter a number: \")) \n",
    "    print(f\"You entered: {number}\") \n",
    "except ValueError: \n",
    "    print(\"Please enter a valid number.\") "
   ]
  },
  {
   "cell_type": "code",
   "execution_count": null,
   "id": "e0f7f48b-1508-4265-961d-9aedc2ee4744",
   "metadata": {},
   "outputs": [],
   "source": []
  }
 ],
 "metadata": {
  "kernelspec": {
   "display_name": "Python 3 (ipykernel)",
   "language": "python",
   "name": "python3"
  },
  "language_info": {
   "codemirror_mode": {
    "name": "ipython",
    "version": 3
   },
   "file_extension": ".py",
   "mimetype": "text/x-python",
   "name": "python",
   "nbconvert_exporter": "python",
   "pygments_lexer": "ipython3",
   "version": "3.11.9"
  }
 },
 "nbformat": 4,
 "nbformat_minor": 5
}
