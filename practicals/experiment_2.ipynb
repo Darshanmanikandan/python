{
 "cells": [
  {
   "cell_type": "code",
   "execution_count": 2,
   "id": "2d729913-a00a-41ae-84a3-4234f7861d88",
   "metadata": {},
   "outputs": [
    {
     "name": "stdout",
     "output_type": "stream",
     "text": [
      "enter your choice\n",
      "1.float\n",
      "2.integer\n",
      "3.complex\n",
      "\n"
     ]
    },
    {
     "name": "stdin",
     "output_type": "stream",
     "text": [
      " 2\n",
      "enter a number:  -10\n"
     ]
    },
    {
     "name": "stdout",
     "output_type": "stream",
     "text": [
      "Absolute of -10 is 10\n"
     ]
    }
   ],
   "source": [
    "print(\"enter your choice\\n1.float\\n2.integer\\n3.complex\\n\")\n",
    "ch= int(input())\n",
    "n=input(\"enter a number: \")\n",
    "if ch==1:\n",
    "  n=float(n)\n",
    "elif ch==2:\n",
    "  n=int(n)\n",
    "elif ch==3:\n",
    "  n=complex(n)\n",
    "else:\n",
    "  print(\"invalid choice\")\n",
    "print(\"Absolute of\",n,\"is\" ,abs(n))"
   ]
  },
  {
   "cell_type": "code",
   "execution_count": 3,
   "id": "84ecf2b5-8118-4acc-a666-7a0d298ba9a6",
   "metadata": {},
   "outputs": [
    {
     "name": "stdin",
     "output_type": "stream",
     "text": [
      "Enter the sale amount:  23235\n"
     ]
    },
    {
     "name": "stdout",
     "output_type": "stream",
     "text": [
      "CGST: 1161.75\n",
      "SGST: 1161.75\n",
      "Total Selling Price: 25558.5\n"
     ]
    }
   ],
   "source": [
    "sale_amount = float(input(\"Enter the sale amount: \"))\n",
    "if sale_amount <= 50000:\n",
    "    cgst = sale_amount * 0.05\n",
    "    sgst = sale_amount * 0.05\n",
    "else:\n",
    "    cgst = sale_amount * 0.18\n",
    "    sgst = sale_amount * 0.18\n",
    "total_price = sale_amount + cgst + sgst\n",
    "print(\"CGST:\", cgst)\n",
    "print(\"SGST:\", sgst)\n",
    "print(\"Total Selling Price:\", total_price)"
   ]
  },
  {
   "cell_type": "code",
   "execution_count": 4,
   "id": "4ed6dd14-4456-453b-ad12-2edaec4481ae",
   "metadata": {},
   "outputs": [
    {
     "name": "stdin",
     "output_type": "stream",
     "text": [
      "enter a number: 5\n"
     ]
    },
    {
     "name": "stdout",
     "output_type": "stream",
     "text": [
      "*\n",
      "**\n",
      "***\n",
      "****\n",
      "*****\n",
      "****\n",
      "***\n",
      "**\n",
      "*\n"
     ]
    }
   ],
   "source": [
    "str='*'\n",
    "n= int(input(\"enter a number:\"))\n",
    "for i in range(1,n+1):\n",
    "  print(i*str)\n",
    "for i in range(n-1,0,-1):\n",
    "  print(i*str)"
   ]
  },
  {
   "cell_type": "code",
   "execution_count": 5,
   "id": "2b1c19e1-581e-464e-9185-1b9175ac6791",
   "metadata": {},
   "outputs": [
    {
     "name": "stdin",
     "output_type": "stream",
     "text": [
      "enter a number to guess (1-9) 5\n"
     ]
    },
    {
     "name": "stdout",
     "output_type": "stream",
     "text": [
      "Try Again\n",
      "\n"
     ]
    },
    {
     "name": "stdin",
     "output_type": "stream",
     "text": [
      "enter a number to guess (1-9) 2\n"
     ]
    },
    {
     "name": "stdout",
     "output_type": "stream",
     "text": [
      "well guessed!\n"
     ]
    }
   ],
   "source": [
    "import random\n",
    "num=random.randint(1,9)\n",
    "n=int(input(\"enter a number to guess (1-9)\"))\n",
    "while True:\n",
    "  if n==num:\n",
    "    print(\"well guessed!\")\n",
    "    break\n",
    "  else:\n",
    "    print(\"Try Again\\n\")\n",
    "    n=int(input(\"enter a number to guess (1-9)\"))"
   ]
  },
  {
   "cell_type": "code",
   "execution_count": 6,
   "id": "3cc34b90-0f9e-4aaa-af9c-1f972406cdbb",
   "metadata": {},
   "outputs": [
    {
     "name": "stdout",
     "output_type": "stream",
     "text": [
      "Monthly Total: $ 22.0\n",
      "Total Annual Cost without Discount: $ 264.0\n",
      "Total Annual Discounted Cost: $ 220.0\n",
      "Total Savings: $ 44.0\n"
     ]
    }
   ],
   "source": [
    "service1_monthly = 10.0\n",
    "service2_monthly = 12.0\n",
    "service1_annual_discount = 100.0\n",
    "service2_annual_discount = 120.0\n",
    "monthly_total = service1_monthly + service2_monthly\n",
    "annual_cost_monthly = monthly_total * 12\n",
    "annual_discounted_total = service1_annual_discount + service2_annual_discount\n",
    "total_savings = annual_cost_monthly - annual_discounted_total\n",
    "print(\"Monthly Total: $\", round(monthly_total, 2))\n",
    "print(\"Total Annual Cost without Discount: $\", round(annual_cost_monthly, 2))\n",
    "print(\"Total Annual Discounted Cost: $\", round(annual_discounted_total, 2))\n",
    "print(\"Total Savings: $\", round(total_savings, 2))"
   ]
  },
  {
   "cell_type": "code",
   "execution_count": 7,
   "id": "ebbf17b2-bc90-414c-8a1a-cd2b2d42664a",
   "metadata": {},
   "outputs": [
    {
     "name": "stdout",
     "output_type": "stream",
     "text": [
      "1\n",
      "2\n",
      "BOOM\n",
      "4\n",
      "BUSS\n",
      "BOOM\n",
      "7\n",
      "8\n",
      "BOOM\n",
      "BUSS\n",
      "11\n",
      "BOOM\n",
      "13\n",
      "14\n",
      "JACKPOT\n",
      "16\n",
      "17\n",
      "BOOM\n",
      "19\n",
      "BUSS\n",
      "BOOM\n",
      "22\n",
      "23\n",
      "BOOM\n",
      "BUSS\n",
      "26\n",
      "BOOM\n",
      "28\n",
      "29\n",
      "JACKPOT\n",
      "31\n",
      "32\n",
      "BOOM\n",
      "34\n",
      "BUSS\n",
      "BOOM\n",
      "37\n",
      "38\n",
      "BOOM\n",
      "BUSS\n",
      "41\n",
      "BOOM\n",
      "43\n",
      "44\n",
      "JACKPOT\n",
      "46\n",
      "47\n",
      "BOOM\n",
      "49\n",
      "BUSS\n"
     ]
    }
   ],
   "source": [
    "for i in range(1,51):\n",
    "  if i%3==0 and i%5==0:\n",
    "    print(\"JACKPOT\")\n",
    "  elif i%3==0:\n",
    "    print(\"BOOM\")\n",
    "  elif i%5==0:\n",
    "    print(\"BUSS\")\n",
    "  else:\n",
    "    print(i)"
   ]
  },
  {
   "cell_type": "code",
   "execution_count": 8,
   "id": "94d64a47-9700-4df1-ad56-e0cf100f30b1",
   "metadata": {},
   "outputs": [
    {
     "name": "stdin",
     "output_type": "stream",
     "text": [
      "Enter number of rows:  2\n",
      "Enter number of columns:  4\n"
     ]
    },
    {
     "name": "stdout",
     "output_type": "stream",
     "text": [
      "Result: [[0, 0, 0, 0], [0, 1, 2, 3]]\n"
     ]
    }
   ],
   "source": [
    "m = int(input(\"Enter number of rows: \"))\n",
    "n = int(input(\"Enter number of columns: \"))\n",
    "result = []\n",
    "for i in range(m):\n",
    "    row = []\n",
    "    for j in range(n):\n",
    "        row.append(i * j)\n",
    "    result.append(row)\n",
    "print(\"Result:\", result)"
   ]
  },
  {
   "cell_type": "code",
   "execution_count": 9,
   "id": "f112efdd-d20c-4255-94a2-b184a16cc6d3",
   "metadata": {},
   "outputs": [
    {
     "name": "stdin",
     "output_type": "stream",
     "text": [
      "Enter the student's score:  24\n"
     ]
    },
    {
     "name": "stdout",
     "output_type": "stream",
     "text": [
      "Grade: D\n"
     ]
    }
   ],
   "source": [
    "score = int(input(\"Enter the student's score: \"))\n",
    "if score >= 90:\n",
    "    grade = 'A'\n",
    "elif score >= 70:\n",
    "    grade = 'B'\n",
    "elif score >= 50:\n",
    "    grade = 'C'\n",
    "else:\n",
    "    grade = 'D'\n",
    "print(\"Grade:\", grade)"
   ]
  },
  {
   "cell_type": "code",
   "execution_count": 10,
   "id": "7a2158c1-160d-4878-9333-1bb620cc71e6",
   "metadata": {},
   "outputs": [
    {
     "name": "stdin",
     "output_type": "stream",
     "text": [
      "Enter a number:  4\n"
     ]
    },
    {
     "name": "stdout",
     "output_type": "stream",
     "text": [
      "4 x 1 = 4\n",
      "4 x 2 = 8\n",
      "4 x 3 = 12\n",
      "4 x 4 = 16\n",
      "4 x 5 = 20\n",
      "4 x 6 = 24\n",
      "4 x 7 = 28\n",
      "4 x 8 = 32\n",
      "4 x 9 = 36\n",
      "4 x 10 = 40\n"
     ]
    }
   ],
   "source": [
    "n=int(input(\"Enter a number: \"))\n",
    "for i in range(1,11):\n",
    "  print(n,\"x\",i,\"=\",n*i)"
   ]
  },
  {
   "cell_type": "code",
   "execution_count": 12,
   "id": "8d6291f7-6655-4106-9db4-b1d9fc9334ba",
   "metadata": {},
   "outputs": [
    {
     "name": "stdin",
     "output_type": "stream",
     "text": [
      "Enter your password:  Darshan411819\n"
     ]
    },
    {
     "name": "stdout",
     "output_type": "stream",
     "text": [
      "Invalid password\n"
     ]
    }
   ],
   "source": [
    "password = input(\"Enter your password: \")\n",
    "special_chars = \"$#@\"\n",
    "if (6 <= len(password) <= 16 and\n",
    "    any(c.islower() for c in password) and\n",
    "    any(c.isupper() for c in password) and\n",
    "    any(c.isdigit() for c in password) and\n",
    "    any(c in special_chars for c in password)):\n",
    "    print(\"Valid password\")\n",
    "else:\n",
    "    print(\"Invalid password\")"
   ]
  },
  {
   "cell_type": "code",
   "execution_count": null,
   "id": "68ef586c-7830-4a13-9e7a-07b78b764bf4",
   "metadata": {},
   "outputs": [],
   "source": []
  }
 ],
 "metadata": {
  "kernelspec": {
   "display_name": "Python 3 (ipykernel)",
   "language": "python",
   "name": "python3"
  },
  "language_info": {
   "codemirror_mode": {
    "name": "ipython",
    "version": 3
   },
   "file_extension": ".py",
   "mimetype": "text/x-python",
   "name": "python",
   "nbconvert_exporter": "python",
   "pygments_lexer": "ipython3",
   "version": "3.11.9"
  }
 },
 "nbformat": 4,
 "nbformat_minor": 5
}
