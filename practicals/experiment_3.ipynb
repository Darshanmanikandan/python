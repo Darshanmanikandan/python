{
 "cells": [
  {
   "cell_type": "code",
   "execution_count": 1,
   "id": "2b282ce1-f644-4ad5-9249-b026b50cd123",
   "metadata": {},
   "outputs": [
    {
     "name": "stdout",
     "output_type": "stream",
     "text": [
      "5\n",
      "10\n",
      "6\n"
     ]
    }
   ],
   "source": [
    "def calculate_ticket_price(age):\n",
    "    if age < 12:\n",
    "        return 5\n",
    "    elif age >= 60:\n",
    "        return 6\n",
    "    else:\n",
    "        return 10\n",
    "print(calculate_ticket_price(8))\n",
    "print(calculate_ticket_price(30))\n",
    "print(calculate_ticket_price(65))"
   ]
  },
  {
   "cell_type": "code",
   "execution_count": 2,
   "id": "324743c6-a621-4b9a-bd0c-110f308b3b87",
   "metadata": {},
   "outputs": [
    {
     "name": "stdout",
     "output_type": "stream",
     "text": [
      "0 F= 32.0\n",
      "37 F  98.6\n"
     ]
    }
   ],
   "source": [
    "def celsius_to_fahrenheit(c):\n",
    "    f =(c * 9/5) + 32\n",
    "    return f\n",
    "print(\"0 F=\",celsius_to_fahrenheit(0))\n",
    "print(\"37 F \",celsius_to_fahrenheit(37))"
   ]
  },
  {
   "cell_type": "code",
   "execution_count": 3,
   "id": "a5a740d7-9b02-4ee3-803d-bfb1abf8b712",
   "metadata": {},
   "outputs": [
    {
     "name": "stdin",
     "output_type": "stream",
     "text": [
      "Enter the score:  12\n"
     ]
    },
    {
     "name": "stdout",
     "output_type": "stream",
     "text": [
      "F\n"
     ]
    }
   ],
   "source": [
    "def grade(score):\n",
    "    if score >= 90:\n",
    "      return \"A\"\n",
    "    elif score>80 and score<89:\n",
    "      return \"B\"\n",
    "    elif score>70 and score<79:\n",
    "      return \"C\"\n",
    "    elif score>60 and score<69:\n",
    "      return \"D\"\n",
    "    else:\n",
    "      return \"F\"\n",
    "score=int(input(\"Enter the score: \"))\n",
    "print(grade(score))"
   ]
  },
  {
   "cell_type": "code",
   "execution_count": 4,
   "id": "386f3da8-cd70-4d2e-a3f3-517be3862f1c",
   "metadata": {},
   "outputs": [
    {
     "name": "stdin",
     "output_type": "stream",
     "text": [
      "Enter a string:  darshan\n"
     ]
    },
    {
     "name": "stdout",
     "output_type": "stream",
     "text": [
      "nahsrad "
     ]
    }
   ],
   "source": [
    "def reverse_words(str1):\n",
    "  str2=str1.split(\" \")\n",
    "  for i in str2:\n",
    "    print(i[::-1],end=\" \")\n",
    "\n",
    "\n",
    "str1=input(\"Enter a string: \")\n",
    "reverse_words(str1)"
   ]
  },
  {
   "cell_type": "code",
   "execution_count": 5,
   "id": "4f02fdae-cef6-46fe-b494-b563ad54a074",
   "metadata": {},
   "outputs": [
    {
     "name": "stdin",
     "output_type": "stream",
     "text": [
      "Enter the weight:  54\n"
     ]
    },
    {
     "name": "stdout",
     "output_type": "stream",
     "text": [
      "15\n"
     ]
    }
   ],
   "source": [
    "def calculate_shipping(weight):\n",
    "    if weight <= 2 and weight >0:\n",
    "        return 5\n",
    "    elif weight <= 5:\n",
    "        return 10\n",
    "    else:\n",
    "        return 15\n",
    "weight=float(input(\"Enter the weight: \"))\n",
    "print(calculate_shipping(weight))"
   ]
  },
  {
   "cell_type": "code",
   "execution_count": 6,
   "id": "b41180bd-6ec5-488c-88c1-de8c8e9abfeb",
   "metadata": {},
   "outputs": [
    {
     "name": "stdin",
     "output_type": "stream",
     "text": [
      "Enter your password:  Md@man411819\n"
     ]
    },
    {
     "name": "stdout",
     "output_type": "stream",
     "text": [
      "Valid password\n"
     ]
    }
   ],
   "source": [
    "def strong_pass(password):\n",
    "  if ((6 <= len(password) <= 16) and any(c.islower() for c in password) and any(c.isupper() for c in password) and any(c.isdigit() for c in password)):\n",
    "    print(\"Valid password\")\n",
    "  else:\n",
    "    print(\"Invalid password\")\n",
    "password = input(\"Enter your password: \")\n",
    "strong_pass(password)"
   ]
  },
  {
   "cell_type": "code",
   "execution_count": null,
   "id": "060fea06-b6f0-4cbd-acbb-c47f46dee8eb",
   "metadata": {},
   "outputs": [],
   "source": []
  }
 ],
 "metadata": {
  "kernelspec": {
   "display_name": "Python 3 (ipykernel)",
   "language": "python",
   "name": "python3"
  },
  "language_info": {
   "codemirror_mode": {
    "name": "ipython",
    "version": 3
   },
   "file_extension": ".py",
   "mimetype": "text/x-python",
   "name": "python",
   "nbconvert_exporter": "python",
   "pygments_lexer": "ipython3",
   "version": "3.11.9"
  }
 },
 "nbformat": 4,
 "nbformat_minor": 5
}
