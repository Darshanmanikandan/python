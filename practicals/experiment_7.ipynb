{
 "cells": [
  {
   "cell_type": "code",
   "execution_count": 1,
   "id": "74784055-7b05-4565-873c-a3eb7bba9f8a",
   "metadata": {},
   "outputs": [
    {
     "name": "stdout",
     "output_type": "stream",
     "text": [
      "Element 10 added to the set.\n",
      "Element 20 added to the set.\n",
      "Element 30 added to the set.\n",
      "Element 20 is in the set.\n",
      "Element 40 is not in the set.\n",
      "Element 20 removed from the set.\n",
      "Element 40 not found in the set.\n",
      "The set has been cleared.\n"
     ]
    }
   ],
   "source": [
    "st = set() \n",
    "st.add(10) \n",
    "print(f\"Element 10 added to the set.\") \n",
    "st.add(20) \n",
    "print(f\"Element 20 added to the set.\") \n",
    "st.add(30) \n",
    "print(f\"Element 30 added to the set.\") \n",
    "if 20 in st: \n",
    "    print(f\"Element 20 is in the set.\") \n",
    "else: \n",
    "    print(f\"Element 20 is not in the set.\") \n",
    "if 40 in st: \n",
    "    print(f\"Element 40 is in the set.\") \n",
    "else: \n",
    "    print(f\"Element 40 is not in the set.\") \n",
    "if 20 in st: \n",
    "    st.remove(20) \n",
    "    print(f\"Element 20 removed from the set.\") \n",
    "else: \n",
    "    print(f\"Element 20 not found in the set.\") \n",
    "if 40 in st: \n",
    "    st.remove(40) \n",
    "else: \n",
    "    print(f\"Element 40 not found in the set.\") \n",
    "st.clear() \n",
    "print(\"The set has been cleared.\") "
   ]
  },
  {
   "cell_type": "code",
   "execution_count": 2,
   "id": "84fe9bec-068f-4561-9ce8-b060b818b69f",
   "metadata": {},
   "outputs": [
    {
     "name": "stdout",
     "output_type": "stream",
     "text": [
      "Union: {1, 2, 3, 4, 5, 6}\n",
      "Intersection: {3, 4}\n",
      "Difference (Set1 - Set2): {1, 2}\n",
      "Symmetric Difference: {1, 2, 5, 6}\n"
     ]
    }
   ],
   "source": [
    "set1 = {1, 2, 3, 4} \n",
    "set2 = {3, 4, 5, 6} \n",
    "union = set1 | set2 \n",
    "print(\"Union:\", union) \n",
    "intersection = set1 & set2 \n",
    "print(\"Intersection:\", intersection) \n",
    "difference = set1 - set2 \n",
    "print(\"Difference (Set1 - Set2):\", difference) \n",
    "symmetric_difference = set1 ^ set2 \n",
    "print(\"Symmetric Difference:\", symmetric_difference) "
   ]
  },
  {
   "cell_type": "code",
   "execution_count": 5,
   "id": "2905c28e-a06c-49c6-a1e1-19aa58c930c3",
   "metadata": {},
   "outputs": [
    {
     "name": "stdout",
     "output_type": "stream",
     "text": [
      "Unique words: {'this', 'darshan', 'from', 'hii', 'kpriet', 'is'}\n",
      "Number of unique words: 6\n"
     ]
    }
   ],
   "source": [
    "sentence = \"Hii ,this is darshan from KPRIET!\" \n",
    "words = sentence.lower().split() \n",
    "words = [word.strip('.,!?()[]{}\":;') for word in words] \n",
    "unique_words = set(words) \n",
    "unique_word_count = len(unique_words) \n",
    "print(\"Unique words:\", unique_words) \n",
    "print(\"Number of unique words:\", unique_word_count) "
   ]
  },
  {
   "cell_type": "code",
   "execution_count": 6,
   "id": "ec4be414-596c-4f9f-afc2-46a916756176",
   "metadata": {},
   "outputs": [
    {
     "name": "stdout",
     "output_type": "stream",
     "text": [
      "{2, 4, 6, 8, 10, 12, 14, 16, 18, 20}\n"
     ]
    }
   ],
   "source": [
    "even_numbers = {x for x in range(1, 21) if x % 2 == 0} \n",
    "print(even_numbers)"
   ]
  },
  {
   "cell_type": "code",
   "execution_count": 7,
   "id": "5d7b5640-4ba2-4d61-8243-1a16d2c91941",
   "metadata": {},
   "outputs": [
    {
     "name": "stdout",
     "output_type": "stream",
     "text": [
      "{'Alice': 30, 'Bob': 25, 'Charlie': 35, 'David': 40, 'Eve': 28}\n"
     ]
    }
   ],
   "source": [
    "people_ages = { \n",
    "    \"Alice\": 30, \n",
    "    \"Bob\": 25, \n",
    "    \"Charlie\": 35, \n",
    "    \"David\": 40, \n",
    "    \"Eve\": 28 \n",
    "} \n",
    "print(people_ages) "
   ]
  },
  {
   "cell_type": "code",
   "execution_count": 8,
   "id": "a9770ce5-764c-4735-870a-e0539389f621",
   "metadata": {},
   "outputs": [
    {
     "name": "stdin",
     "output_type": "stream",
     "text": [
      "Enter a name to search:  david\n"
     ]
    },
    {
     "name": "stdout",
     "output_type": "stream",
     "text": [
      "david not found in the dictionary.\n"
     ]
    }
   ],
   "source": [
    "people_ages = { \n",
    "    \"Alice\": 30, \n",
    "    \"Bob\": 25, \n",
    "    \"Charlie\": 35, \n",
    "    \"David\": 40, \n",
    "    \"Eve\": 28 \n",
    "} \n",
    "search_key = input(\"Enter a name to search: \") \n",
    "if search_key in people_ages: \n",
    "    print(f\"{search_key} is {people_ages[search_key]} years old.\") \n",
    "else: \n",
    "    print(f\"{search_key} not found in the dictionary.\") "
   ]
  },
  {
   "cell_type": "code",
   "execution_count": 14,
   "id": "4066eb15-3d5b-4e1b-827c-5beae7a0cd34",
   "metadata": {},
   "outputs": [
    {
     "name": "stdout",
     "output_type": "stream",
     "text": [
      "Updated dictionary: {'Alice': 30, 'Bob': 26, 'Charlie': 35, 'David': 40, 'Eve': 28}\n",
      "Removed 'Charlie' with age 35.\n",
      "Dictionary after removal: {'Alice': 30, 'Bob': 26, 'David': 40, 'Eve': 28}\n"
     ]
    }
   ],
   "source": [
    "people_ages = { \n",
    "    \"Alice\": 30, \n",
    "    \"Bob\": 25, \n",
    "    \"Charlie\": 35, \n",
    "    \"David\": 40, \n",
    "    \"Eve\": 28 \n",
    "} \n",
    "people_ages[\"Bob\"] = 26 \n",
    "print(\"Updated dictionary:\", people_ages) \n",
    "removed_age = people_ages.pop(\"Charlie\", None) \n",
    "if removed_age is not None: \n",
    "    print(f\"Removed 'Charlie' with age {removed_age}.\") \n",
    "else: \n",
    "    print(\"Key 'Charlie' not found.\") \n",
    "print(\"Dictionary after removal:\", people_ages) "
   ]
  },
  {
   "cell_type": "code",
   "execution_count": 15,
   "id": "031ade42-7f87-4830-9be4-7c6aa796662a",
   "metadata": {},
   "outputs": [
    {
     "name": "stdin",
     "output_type": "stream",
     "text": [
      "Enter a string:  darshan\n"
     ]
    },
    {
     "name": "stdout",
     "output_type": "stream",
     "text": [
      "Character frequencies:\n",
      "'d': 1\n",
      "'a': 2\n",
      "'r': 1\n",
      "'s': 1\n",
      "'h': 1\n",
      "'n': 1\n"
     ]
    }
   ],
   "source": [
    "user_input = input(\"Enter a string: \") \n",
    "char_frequency = {} \n",
    "for char in user_input: \n",
    "    if char in char_frequency: \n",
    "        char_frequency[char] += 1 \n",
    "    else: \n",
    "        char_frequency[char] = 1 \n",
    "print(\"Character frequencies:\") \n",
    "for char, count in char_frequency.items(): \n",
    "    print(f\"'{char}': {count}\") "
   ]
  },
  {
   "cell_type": "code",
   "execution_count": 16,
   "id": "8e5b5d93-d5cc-4371-b812-4bde50a2f88c",
   "metadata": {},
   "outputs": [
    {
     "name": "stdout",
     "output_type": "stream",
     "text": [
      "Merged Dictionary: {'a': 1, 'b': 3, 'c': 4}\n"
     ]
    }
   ],
   "source": [
    "dict1 = {'a': 1, 'b': 2} \n",
    "dict2 = {'b': 3, 'c': 4} \n",
    "merged_dict = dict1 | dict2 \n",
    "print(\"Merged Dictionary:\", merged_dict) "
   ]
  },
  {
   "cell_type": "code",
   "execution_count": 17,
   "id": "8d7911e0-cb86-4033-887f-33fe9b287813",
   "metadata": {},
   "outputs": [
    {
     "name": "stdout",
     "output_type": "stream",
     "text": [
      "Students who scored more than 80:\n",
      "Alice\n",
      "Charlie\n",
      "Eve\n"
     ]
    }
   ],
   "source": [
    "students_marks = { \n",
    "    \"Alice\": 85, \n",
    "    \"Bob\": 75, \n",
    "    \"Charlie\": 90, \n",
    "    \"David\": 65, \n",
    "    \"Eve\": 95 \n",
    "} \n",
    "print(\"Students who scored more than 80:\") \n",
    "for name, marks in students_marks.items(): \n",
    "    if marks > 80: \n",
    "        print(name) "
   ]
  },
  {
   "cell_type": "code",
   "execution_count": null,
   "id": "3d26c15c-2703-434e-b4f3-9b4e14f86524",
   "metadata": {},
   "outputs": [],
   "source": []
  }
 ],
 "metadata": {
  "kernelspec": {
   "display_name": "Python 3 (ipykernel)",
   "language": "python",
   "name": "python3"
  },
  "language_info": {
   "codemirror_mode": {
    "name": "ipython",
    "version": 3
   },
   "file_extension": ".py",
   "mimetype": "text/x-python",
   "name": "python",
   "nbconvert_exporter": "python",
   "pygments_lexer": "ipython3",
   "version": "3.11.9"
  }
 },
 "nbformat": 4,
 "nbformat_minor": 5
}
