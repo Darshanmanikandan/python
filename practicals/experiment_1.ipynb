{
 "cells": [
  {
   "cell_type": "code",
   "execution_count": 1,
   "id": "ad5b45fd-379a-4696-bd3b-d1140ae7b397",
   "metadata": {},
   "outputs": [
    {
     "name": "stdout",
     "output_type": "stream",
     "text": [
      "Enter the value of a: 12\n",
      "Enter the value of b: 23\n",
      "Enter the value of c: 12\n"
     ]
    },
    {
     "name": "stdout",
     "output_type": "stream",
     "text": [
      "Area of triangle is: 39.420013952306\n"
     ]
    }
   ],
   "source": [
    "import math\n",
    "a=int(input(\"Enter the value of a:\"))\n",
    "b=int(input(\"Enter the value of b:\"))\n",
    "c=int(input(\"Enter the value of c:\"))\n",
    "s=(a+b+c)/2\n",
    "area=math.sqrt(s*(s-a)*(s-b)*(s-c))\n",
    "print(\"Area of triangle is:\",area)"
   ]
  },
  {
   "cell_type": "code",
   "execution_count": 2,
   "id": "bb783b8b-b41c-402e-8746-dd59bf157e6c",
   "metadata": {},
   "outputs": [
    {
     "name": "stdout",
     "output_type": "stream",
     "text": [
      "Enter the value of x1: 12\n",
      "Enter the value of y1: 23\n",
      "Enter the value of x2: 14\n",
      "Enter the value of y2: 23\n"
     ]
    },
    {
     "name": "stdout",
     "output_type": "stream",
     "text": [
      "Distance between two points is: 2.0\n"
     ]
    }
   ],
   "source": [
    "import math\n",
    "x1=int(input(\"Enter the value of x1:\"))\n",
    "y1=int(input(\"Enter the value of y1:\"))\n",
    "x2=int(input(\"Enter the value of x2:\"))\n",
    "y2=int(input(\"Enter the value of y2:\"))\n",
    "distance=math.sqrt((x2-x1)**2+(y2-y1)**2)\n",
    "print(\"Distance between two points is:\",distance)"
   ]
  },
  {
   "cell_type": "code",
   "execution_count": 4,
   "id": "a55dc820-9f7b-4c26-b598-f0c51d503b0b",
   "metadata": {},
   "outputs": [
    {
     "name": "stdout",
     "output_type": "stream",
     "text": [
      "Enter the radius of the circle:  23\n",
      "Enter the length of the rectangle:  34\n",
      "Enter the breadth of the rectangle:  1\n",
      "Enter the base:  23\n",
      "Enter the height:  34\n",
      "Enter the side:  12\n"
     ]
    },
    {
     "name": "stdout",
     "output_type": "stream",
     "text": [
      "Area of circle is: 1661.06\n",
      "Area of rectangle is: 34\n",
      "Area of triangle is:  391.0\n",
      "Area of square is : 144\n"
     ]
    }
   ],
   "source": [
    "radius=int(input(\"Enter the radius of the circle: \"))\n",
    "length_r=int(input(\"Enter the length of the rectangle: \"))\n",
    "breadth_r=int(input(\"Enter the breadth of the rectangle: \"))\n",
    "base_triangle=int(input(\"Enter the base: \"))\n",
    "height_triangle=int(input(\"Enter the height: \"))\n",
    "side_sq=int(input(\"Enter the side: \"))\n",
    "print(\"Area of circle is:\",3.14*radius*radius)\n",
    "print(\"Area of rectangle is:\",length_r*breadth_r)\n",
    "print(\"Area of triangle is: \",0.5*base_triangle*height_triangle)\n",
    "print(\"Area of square is :\",side_sq*side_sq)"
   ]
  },
  {
   "cell_type": "code",
   "execution_count": 5,
   "id": "3b577486-6014-4b37-a824-c85c90d25f97",
   "metadata": {},
   "outputs": [
    {
     "name": "stdout",
     "output_type": "stream",
     "text": [
      "Enter a number 124332513\n"
     ]
    },
    {
     "name": "stdout",
     "output_type": "stream",
     "text": [
      "Ones digit is: 3\n"
     ]
    }
   ],
   "source": [
    "num = int(input(\"Enter a number\"))\n",
    "first_digit=num%10\n",
    "print(\"Ones digit is:\",first_digit)"
   ]
  },
  {
   "cell_type": "code",
   "execution_count": 6,
   "id": "ce2bb9c3-fce4-4aa6-ba87-39d7fd0a85ae",
   "metadata": {},
   "outputs": [
    {
     "name": "stdout",
     "output_type": "stream",
     "text": [
      "Enter the number of 10rs coins:  3\n",
      "Enter the number of 5rs coins:  6\n",
      "Enter the number of 2rs coins:  2\n",
      "Enter the number of 1rs coins:  3\n"
     ]
    },
    {
     "name": "stdout",
     "output_type": "stream",
     "text": [
      "Total amount is: 67\n"
     ]
    }
   ],
   "source": [
    "ten_count=int(input(\"Enter the number of 10rs coins: \"))\n",
    "five_count=int(input(\"Enter the number of 5rs coins: \"))\n",
    "two_count=int(input(\"Enter the number of 2rs coins: \"))\n",
    "one_count=int(input(\"Enter the number of 1rs coins: \"))\n",
    "print(\"Total amount is:\",ten_count*10+five_count*5+two_count*2+one_count)"
   ]
  },
  {
   "cell_type": "code",
   "execution_count": 7,
   "id": "4b87b059-fe02-4bc2-8f50-1a5229263292",
   "metadata": {},
   "outputs": [
    {
     "name": "stdout",
     "output_type": "stream",
     "text": [
      "Enter the quantity:  4\n",
      "Enter the value:  232\n",
      "Enter the discount:  12\n",
      "Enter the tax:  52\n"
     ]
    },
    {
     "name": "stdout",
     "output_type": "stream",
     "text": [
      "Bill amount is: 968\n"
     ]
    }
   ],
   "source": [
    "quantity=int(input(\"Enter the quantity: \"))\n",
    "value=int(input(\"Enter the value: \"))\n",
    "discount=int(input(\"Enter the discount: \"))\n",
    "tax=int(input(\"Enter the tax: \"))\n",
    "print(\"Bill amount is:\",quantity*value-discount+tax)"
   ]
  },
  {
   "cell_type": "code",
   "execution_count": 9,
   "id": "f28b190b-e418-425f-8899-09eec832931f",
   "metadata": {},
   "outputs": [
    {
     "name": "stdout",
     "output_type": "stream",
     "text": [
      "Enter units consumed:  12\n"
     ]
    },
    {
     "name": "stdout",
     "output_type": "stream",
     "text": [
      "\n",
      "Electricity Bill\n",
      "Units Consumed      : 12.0\n",
      "Energy Charges (in Rs)  : 18.0\n",
      "Fixed Charge        : ₹50.00\n",
      "Total Amount (in Rs)    : 68.0\n"
     ]
    }
   ],
   "source": [
    "units = float(input(\"Enter units consumed: \"))\n",
    "if units <= 100:\n",
    "    charge = units * 1.5\n",
    "elif units <= 200:\n",
    "    charge = 100 * 1.5 + (units - 100) * 2.0\n",
    "else:\n",
    "    charge = 100 * 1.5 + 100 * 2.0 + (units - 200) * 3.0\n",
    "fixedamt = 50\n",
    "total_bill = charge + fixedamt\n",
    "print(\"\\nElectricity Bill\")\n",
    "print(\"Units Consumed      :\", units)\n",
    "print(\"Energy Charges (in Rs) :\", round(charge, 2))\n",
    "print(\"Fixed Charge        : ₹50.00\")\n",
    "print(\"Total Amount (in Rs)    :\", round(total_bill, 2))\n"
   ]
  },
  {
   "cell_type": "code",
   "execution_count": 10,
   "id": "245aa59a-b1e7-4b8d-99cd-df2e7887914e",
   "metadata": {},
   "outputs": [
    {
     "name": "stdout",
     "output_type": "stream",
     "text": [
      "Enter employee name:  darshan\n",
      "Enter employee ID:  12312\n",
      "Enter number of hours worked:  24\n",
      "Enter hourly wage:  250\n"
     ]
    },
    {
     "name": "stdout",
     "output_type": "stream",
     "text": [
      "\n",
      "\t Salary Slip \n",
      "Employee Name       : darshan\n",
      "Employee ID         : 12312\n",
      "Hours Worked        : 24.0\n",
      "Hourly Wage (₹)     : 250.0\n",
      "Gross Salary (₹)    : 6000.0\n",
      "Tax Deducted (10%)  : 600.0\n",
      "Net Salary (₹)      : 5400.0\n"
     ]
    }
   ],
   "source": [
    "name = input(\"Enter employee name: \")\n",
    "emp_id = input(\"Enter employee ID: \")\n",
    "hours_worked = float(input(\"Enter number of hours worked: \"))\n",
    "hourly_wage = float(input(\"Enter hourly wage: \"))\n",
    "gross_salary = hours_worked * hourly_wage\n",
    "tax = gross_salary * 0.10\n",
    "net_salary = gross_salary - tax\n",
    "print(\"\\n\\t Salary Slip \")\n",
    "print(\"Employee Name       :\", name)\n",
    "print(\"Employee ID         :\", emp_id)\n",
    "print(\"Hours Worked        :\", hours_worked)\n",
    "print(\"Hourly Wage (₹)     :\", hourly_wage)\n",
    "print(\"Gross Salary (₹)    :\", round(gross_salary, 2))\n",
    "print(\"Tax Deducted (10%)  :\", round(tax, 2))\n",
    "print(\"Net Salary (₹)      :\", round(net_salary, 2))"
   ]
  },
  {
   "cell_type": "code",
   "execution_count": null,
   "id": "a27c2ea5-a590-4835-87ba-43998d3f8981",
   "metadata": {},
   "outputs": [
    {
     "name": "stdout",
     "output_type": "stream",
     "text": [
      "Ticket Categories:\n",
      "1. Silver   - ₹120\n",
      "2. Gold     - ₹180\n",
      "3. Platinum - ₹250\n"
     ]
    },
    {
     "name": "stdout",
     "output_type": "stream",
     "text": [
      "Enter ticket category (Silver/Gold/Platinum):  silver\n",
      "Enter number of tickets:  12\n"
     ]
    },
    {
     "name": "stdout",
     "output_type": "stream",
     "text": [
      "\n",
      "\t Movie Ticket Bill\n",
      "Category          : Silver\n",
      "Tickets           : 12\n",
      "Price per Ticket  : ₹ 120\n",
      "Subtotal          : ₹ 1440\n",
      "GST (18%)         : ₹ 259.2\n",
      "Total Amount      : ₹ 1699.2\n"
     ]
    }
   ],
   "source": [
    "print(\"Ticket Categories:\")\n",
    "print(\"1. Silver   - ₹120\")\n",
    "print(\"2. Gold     - ₹180\")\n",
    "print(\"3. Platinum - ₹250\")\n",
    "category = input(\"Enter ticket category (Silver/Gold/Platinum): \")\n",
    "category=category.lower()\n",
    "if \"silver\" == category :\n",
    "    price_per_ticket = 120\n",
    "elif \"gold\" == category:\n",
    "    price_per_ticket = 180\n",
    "elif \"platinum\" == category:\n",
    "    price_per_ticket = 250\n",
    "else:\n",
    "    print(\"Invalid category selected.\")\n",
    "    exit(0)\n",
    "tickets = int(input(\"Enter number of tickets: \"))\n",
    "subtotal = price_per_ticket * tickets\n",
    "gst = subtotal * 0.18\n",
    "total = subtotal + gst\n",
    "print(\"\\n\\t Movie Ticket Bill\")\n",
    "print(\"Category          :\", category.capitalize())\n",
    "print(\"Tickets           :\", tickets)\n",
    "print(\"Price per Ticket  : ₹\", price_per_ticket)\n",
    "print(\"Subtotal          : ₹\", round(subtotal, 2))\n",
    "print(\"GST (18%)         : ₹\", round(gst, 2))\n",
    "print(\"Total Amount      : ₹\", round(total, 2))"
   ]
  },
  {
   "cell_type": "code",
   "execution_count": 9,
   "id": "2743c2c9-62f2-414c-8d3d-2905597bed7a",
   "metadata": {},
   "outputs": [
    {
     "name": "stdout",
     "output_type": "stream",
     "text": [
      "Transport Modes:\n",
      "1. Bus   - ₹5/km, Speed: 40 km/h\n",
      "2. Train - ₹2/km, Speed: 80 km/h\n",
      "3. Cab   - ₹10/km, Speed: 60 km/h\n"
     ]
    },
    {
     "name": "stdout",
     "output_type": "stream",
     "text": [
      "Enter mode of transport (Bus/Train/Cab):  bus\n",
      "Enter distance (in km):  23\n"
     ]
    },
    {
     "name": "stdout",
     "output_type": "stream",
     "text": [
      "\n",
      "\t Travel Details\n",
      "Mode of Transport   : Bus\n",
      "Distance            : 23.0 km\n",
      "Fare (₹)            : 115.0\n",
      "Estimated Time      : 0.57 hours\n"
     ]
    }
   ],
   "source": [
    "print(\"Transport Modes:\")\n",
    "print(\"1. Bus   - ₹5/km, Speed: 40 km/h\")\n",
    "print(\"2. Train - ₹2/km, Speed: 80 km/h\")\n",
    "print(\"3. Cab   - ₹10/km, Speed: 60 km/h\")\n",
    "mode = input(\"Enter mode of transport (Bus/Train/Cab): \")\n",
    "mode=mode.lower()\n",
    "if mode == \"bus\":\n",
    "    rate = 5\n",
    "    speed = 40\n",
    "elif mode == \"train\":\n",
    "    rate = 2\n",
    "    speed = 80\n",
    "elif mode == \"cab\":\n",
    "    rate = 10\n",
    "    speed = 60\n",
    "else:\n",
    "    print(\"Invalid transport mode selected.\")\n",
    "distance = float(input(\"Enter distance (in km): \"))\n",
    "fare = distance * rate\n",
    "time = distance / speed\n",
    "print(\"\\n\\t Travel Details\")\n",
    "print(\"Mode of Transport   :\", mode.capitalize())\n",
    "print(\"Distance            :\", distance, \"km\")\n",
    "print(\"Fare (₹)            :\", round(fare, 2))\n",
    "print(\"Estimated Time      :\", round(time, 2), \"hours\")"
   ]
  },
  {
   "cell_type": "code",
   "execution_count": null,
   "id": "b5b3d3ac-b443-4eb2-b394-166df8a26d1d",
   "metadata": {},
   "outputs": [],
   "source": []
  }
 ],
 "metadata": {
  "kernelspec": {
   "display_name": "Python 3 (ipykernel)",
   "language": "python",
   "name": "python3"
  },
  "language_info": {
   "codemirror_mode": {
    "name": "ipython",
    "version": 3
   },
   "file_extension": ".py",
   "mimetype": "text/x-python",
   "name": "python",
   "nbconvert_exporter": "python",
   "pygments_lexer": "ipython3",
   "version": "3.11.9"
  }
 },
 "nbformat": 4,
 "nbformat_minor": 5
}
