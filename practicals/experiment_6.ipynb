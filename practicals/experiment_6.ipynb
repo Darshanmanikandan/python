{
 "cells": [
  {
   "cell_type": "code",
   "execution_count": 2,
   "id": "077d15e2-13a0-4475-9e66-f643af50030e",
   "metadata": {},
   "outputs": [
    {
     "name": "stdout",
     "output_type": "stream",
     "text": [
      "[1, 2, 3, 4, 5, 6]\n",
      "[1, 2, 7, 3, 4, 5, 6]\n",
      "[1, 2, 7, 3, 4, 6]\n",
      "[1, 2, 8, 3, 4, 6]\n"
     ]
    }
   ],
   "source": [
    "list1 = [1, 2, 3, 4, 5] \n",
    "list1.append(6) \n",
    "print(list1) \n",
    "list1.insert(2, 7) \n",
    "print(list1) \n",
    "del list1[5] \n",
    "print(list1)\n",
    "list1[2] = 8\n",
    "print(list1) "
   ]
  },
  {
   "cell_type": "code",
   "execution_count": 3,
   "id": "d4589f17-c743-4214-81c7-d3516f3c8f09",
   "metadata": {},
   "outputs": [
    {
     "name": "stdout",
     "output_type": "stream",
     "text": [
      "largest number is 50\n",
      "smallest number is 10\n",
      "average is 30.0\n"
     ]
    }
   ],
   "source": [
    "list1=[10,20,30,40,50] \n",
    "print(\"largest number is\",max(list1)) \n",
    "print(\"smallest number is\",min(list1)) \n",
    "print(\"average is\",sum(list1)/len(list1)) "
   ]
  },
  {
   "cell_type": "code",
   "execution_count": 4,
   "id": "d09a1159-c267-4d91-be59-0db293617837",
   "metadata": {},
   "outputs": [
    {
     "name": "stdout",
     "output_type": "stream",
     "text": [
      "[1, 4, 9, 16, 25, 36, 49, 64, 81, 100]\n"
     ]
    }
   ],
   "source": [
    "list1=[x**2 for x in range(1,11)] \n",
    "print(list1) "
   ]
  },
  {
   "cell_type": "code",
   "execution_count": 5,
   "id": "b8e3dff9-ade7-4482-b9cd-f73ea97a9847",
   "metadata": {},
   "outputs": [
    {
     "name": "stdin",
     "output_type": "stream",
     "text": [
      "enter the number of students:  4\n",
      "enter the name of student:  darshan\n",
      "enter the name of student:  bharath\n",
      "enter the name of student:  dinakar\n",
      "enter the name of student:  dixit\n"
     ]
    },
    {
     "name": "stdout",
     "output_type": "stream",
     "text": [
      "['bharath', 'darshan', 'dinakar', 'dixit']\n"
     ]
    }
   ],
   "source": [
    "n=int(input(\"enter the number of students: \"))\n",
    "list1=[] \n",
    "for i in range(n):  \n",
    "    name=input(\"enter the name of student: \")    \n",
    "    list1.append(name) \n",
    "list1.sort() \n",
    "print(list1) "
   ]
  },
  {
   "cell_type": "code",
   "execution_count": 9,
   "id": "7be525c5-ac0f-4b9f-a97d-f7afc3f8dd5b",
   "metadata": {},
   "outputs": [
    {
     "name": "stdin",
     "output_type": "stream",
     "text": [
      "enter the number to search:  1\n",
      "which choice you will prefer:\n",
      " 1.linear\n",
      "2.binary\n",
      " 1\n"
     ]
    },
    {
     "name": "stdout",
     "output_type": "stream",
     "text": [
      "By linear search number found at index 0\n"
     ]
    }
   ],
   "source": [
    "\n",
    "def linear_search(lst,n):  \n",
    "    for i in range(len(lst)): \n",
    "         if lst[i]==n: \n",
    "            print(\"By linear search number found at index\",i) \n",
    "            return i\n",
    "    return -1\n",
    " \n",
    "def binary_search(arr, target): \n",
    "    low = 0 \n",
    "    high = len(arr) - 1 \n",
    "    while low <= high: \n",
    "        mid = (low + high) // 2 \n",
    "        if arr[mid] == target: \n",
    "            print(\"By binary search number found at index\",res) \n",
    "            return mid     \n",
    "        elif arr[mid] < target: \n",
    "            low = mid + 1 \n",
    "        else:    \n",
    "            high = mid - 1  \n",
    "    return -1 \n",
    "list1=[1,2,3,4,5,6,7,8,9,10] \n",
    "n=int(input(\"enter the number to search: \")) \n",
    "choice = int(input(\"which choice you will prefer:\\n 1.linear\\n2.binary\\n\"))\n",
    "if choice ==1: \n",
    "  res=linear_search(list1,n)\n",
    "else: \n",
    "  res=binary_search(list1,n)   \n",
    "if res==-1:  \n",
    "    print(\"By binary search number not found\") "
   ]
  },
  {
   "cell_type": "code",
   "execution_count": 10,
   "id": "ed9f6555-8eae-4637-855f-a6e9f6120238",
   "metadata": {},
   "outputs": [
    {
     "name": "stdout",
     "output_type": "stream",
     "text": [
      "[1, 9, 25]\n"
     ]
    }
   ],
   "source": [
    "list1=[1,2,3,4,5,6] \n",
    "lstc=[x**2 for x in list1 if x%2==1] \n",
    "print(lstc) "
   ]
  },
  {
   "cell_type": "code",
   "execution_count": 11,
   "id": "f5941027-f927-4639-9e7a-bbf6f1b65aea",
   "metadata": {},
   "outputs": [
    {
     "name": "stdin",
     "output_type": "stream",
     "text": [
      "enter a: 12\n",
      "enter b: 23\n"
     ]
    },
    {
     "name": "stdout",
     "output_type": "stream",
     "text": [
      "Before swapping: 12 23\n",
      "After swapping: 23 12\n"
     ]
    }
   ],
   "source": [
    "a,b=int(input(\"enter a:\")),int(input(\"enter b:\")) \n",
    "print(\"Before swapping:\",a,b) \n",
    "(a,b)=(b,a) \n",
    "print(\"After swapping:\",a,b) "
   ]
  },
  {
   "cell_type": "code",
   "execution_count": 14,
   "id": "0a58c4db-32bd-49a0-a744-e45c6d680b56",
   "metadata": {},
   "outputs": [
    {
     "name": "stdin",
     "output_type": "stream",
     "text": [
      "enter the number of students:  3\n",
      "enter the name of student:  darshan\n",
      "enter the marks of student:  67\n",
      "enter the name of student:  bharath\n",
      "enter the marks of student:  98\n",
      "enter the name of student:  dheena\n",
      "enter the marks of student:  45\n"
     ]
    },
    {
     "name": "stdout",
     "output_type": "stream",
     "text": [
      "[('darshan', 67), ('bharath', 98), ('dheena', 45)]\n",
      "bharath scored above 90\n"
     ]
    }
   ],
   "source": [
    "list1=[]\n",
    "n=int(input(\"enter the number of students: \")) \n",
    "for i in range(n): \n",
    "    name=input(\"enter the name of student: \") \n",
    "    marks=int(input(\"enter the marks of student: \"))    \n",
    "    list1.append((name,marks)) \n",
    "print(list1) \n",
    "for i in list1: \n",
    "    if i[1]>90: \n",
    "        print(i[0], \"scored above 90\") "
   ]
  },
  {
   "cell_type": "code",
   "execution_count": 15,
   "id": "80752a98-d406-4b2d-965d-392725c38ef8",
   "metadata": {},
   "outputs": [
    {
     "name": "stdin",
     "output_type": "stream",
     "text": [
      "enter the number of readings:  4\n",
      "enter the reading:  1\n",
      "enter the reading:  4\n",
      "enter the reading:  2\n",
      "enter the reading:  3\n"
     ]
    },
    {
     "name": "stdout",
     "output_type": "stream",
     "text": [
      "[1, 4, 2, 3]\n",
      "[1, 4, 2, 3]\n"
     ]
    }
   ],
   "source": [
    "list1=[]\n",
    "n=int(input(\"enter the number of readings: \")) \n",
    "for i in range(n): \n",
    "    reading=int(input(\"enter the reading: \"))   \n",
    "    list1.append(reading) \n",
    "print(list1) \n",
    "for i in range(len(list1)): \n",
    "    if list1[i]<0:  \n",
    "        list1[i]=0 \n",
    "print(list1) "
   ]
  },
  {
   "cell_type": "code",
   "execution_count": 22,
   "id": "2ea8b720-25ee-4ae2-bc2c-16445dfb4af1",
   "metadata": {},
   "outputs": [
    {
     "name": "stdout",
     "output_type": "stream",
     "text": [
      "\n",
      "--- Customer Order System ---\n",
      "1. Add item\n",
      "2. Remove item\n",
      "3. Display order\n",
      "4. Total number of items\n",
      "5. Exit\n"
     ]
    },
    {
     "name": "stdin",
     "output_type": "stream",
     "text": [
      "Enter your choice (1-5):  1\n",
      "Enter item name to add:  soap\n",
      "Enter quantity:  4\n"
     ]
    },
    {
     "name": "stdout",
     "output_type": "stream",
     "text": [
      "4 soap(s) added.\n",
      "\n",
      "--- Customer Order System ---\n",
      "1. Add item\n",
      "2. Remove item\n",
      "3. Display order\n",
      "4. Total number of items\n",
      "5. Exit\n"
     ]
    },
    {
     "name": "stdin",
     "output_type": "stream",
     "text": [
      "Enter your choice (1-5):  3\n"
     ]
    },
    {
     "name": "stdout",
     "output_type": "stream",
     "text": [
      "Current order:\n",
      "- soap: 4\n",
      "\n",
      "--- Customer Order System ---\n",
      "1. Add item\n",
      "2. Remove item\n",
      "3. Display order\n",
      "4. Total number of items\n",
      "5. Exit\n"
     ]
    },
    {
     "name": "stdin",
     "output_type": "stream",
     "text": [
      "Enter your choice (1-5):  5\n"
     ]
    },
    {
     "name": "stdout",
     "output_type": "stream",
     "text": [
      "Exiting the system. Goodbye!\n"
     ]
    }
   ],
   "source": [
    "def add_item(order, item_name, quantity):\n",
    "    if quantity <= 0:\n",
    "        print(\"Quantity must be positive.\")\n",
    "        return\n",
    "    for i, (name, qty) in enumerate(order):\n",
    "        if name == item_name:\n",
    "            order[i] = (name, qty + quantity)\n",
    "            print(f\"{quantity} {item_name}(s) added. New quantity: {qty + quantity}\")\n",
    "            return\n",
    "    order.append((item_name, quantity))\n",
    "    print(f\"{quantity} {item_name}(s) added.\")\n",
    "\n",
    "def remove_item(order, item_name):\n",
    "    original_len = len(order)\n",
    "    order[:] = [item for item in order if item[0] != item_name]\n",
    "    if len(order) < original_len:\n",
    "        print(f\"{item_name} removed from the order.\")\n",
    "    else:\n",
    "        print(f\"{item_name} not found in the order.\")\n",
    "\n",
    "def display_order(order):\n",
    "    if not order:\n",
    "        print(\"Order is empty.\")\n",
    "        return\n",
    "    print(\"Current order:\")\n",
    "    for item_name, quantity in order:\n",
    "        print(f\"- {item_name}: {quantity}\")\n",
    "\n",
    "def total_items(order):\n",
    "    return sum(quantity for _, quantity in order)\n",
    "\n",
    "order = [] \n",
    "while True:\n",
    "    print(\"\\n--- Customer Order System ---\")\n",
    "    print(\"1. Add item\")\n",
    "    print(\"2. Remove item\")\n",
    "    print(\"3. Display order\")\n",
    "    print(\"4. Total number of items\")\n",
    "    print(\"5. Exit\")\n",
    "    choice = input(\"Enter your choice (1-5): \").strip()\n",
    "\n",
    "    if choice == '1':\n",
    "        item_name = input(\"Enter item name to add: \").strip()\n",
    "        try:\n",
    "            quantity = int(input(\"Enter quantity: \"))\n",
    "        except ValueError:\n",
    "            print(\"Invalid quantity. Please enter a positive integer.\")\n",
    "            continue\n",
    "        add_item(order, item_name, quantity)\n",
    "\n",
    "    elif choice == '2':\n",
    "        item_name = input(\"Enter item name to remove: \").strip()\n",
    "        remove_item(order, item_name)\n",
    "\n",
    "    elif choice == '3':\n",
    "        display_order(order)\n",
    "\n",
    "    elif choice == '4':\n",
    "        print(f\"Total items in order: {total_items(order)}\")\n",
    "\n",
    "    elif choice == '5':\n",
    "        print(\"Exiting the system. Goodbye!\")\n",
    "        break\n",
    "\n",
    "    else:\n",
    "        print(\"Invalid choice. Please enter a number between 1 and 5.\")"
   ]
  },
  {
   "cell_type": "code",
   "execution_count": 23,
   "id": "f9b9b6e7-9886-4524-b42d-a2eae5c8e666",
   "metadata": {},
   "outputs": [
    {
     "name": "stdout",
     "output_type": "stream",
     "text": [
      "[2, 5]\n",
      "[4, 3]\n",
      "[8, -1]\n",
      "[1, 6]\n"
     ]
    }
   ],
   "source": [
    "numbers = [2, 4, 3, 5, 7, 8, -1, 1, 6]\n",
    "target = 7  \n",
    "pairs = [] \n",
    "for i in range(len(numbers)):\n",
    "    for j in range(i + 1, len(numbers)): \n",
    "        if numbers[i] + numbers[j] == target:   \n",
    "            pair = [numbers[i], numbers[j]]   \n",
    "            if pair not in pairs:   \n",
    "                pairs.append(pair) \n",
    "for pair in pairs:    \n",
    "     print(pair) "
   ]
  },
  {
   "cell_type": "code",
   "execution_count": 25,
   "id": "8aaa13a2-89cc-45f4-ab40-110f373dc57e",
   "metadata": {},
   "outputs": [
    {
     "name": "stdout",
     "output_type": "stream",
     "text": [
      "[('a', 2), ('b', 4), ('d', 1)]\n"
     ]
    }
   ],
   "source": [
    "def counting(chars): \n",
    "    encoded = []   \n",
    "    count = 1 \n",
    "    for i in range(1, len(chars)): \n",
    "        if chars[i] == chars[i-1]: \n",
    "            count += 1  \n",
    "        else: \n",
    "            encoded.append((chars[i-1], count)) \n",
    "            count = 1 \n",
    "    encoded.append((chars[-1], count)) \n",
    "    return encoded \n",
    "chars = ['a','a','b','b','b','b','d'] \n",
    "encoded = counting(chars) \n",
    "print(encoded) "
   ]
  },
  {
   "cell_type": "code",
   "execution_count": 26,
   "id": "118e33fe-1e45-4e21-b889-29e961e01b6e",
   "metadata": {},
   "outputs": [
    {
     "name": "stdout",
     "output_type": "stream",
     "text": [
      "the transposed matrix is: [[1, 4], [2, 5], [3, 6]]\n"
     ]
    }
   ],
   "source": [
    "matrix = [[1, 2, 3],[4, 5, 6]] \n",
    "rows = len(matrix) \n",
    "cols = len(matrix[0]) \n",
    "transposed = [] \n",
    "for i in range(cols): \n",
    "    new_row = [] \n",
    "    for j in range(rows):\n",
    "        new_row.append(matrix[j][i]) \n",
    "    transposed.append(new_row) \n",
    "print(\"the transposed matrix is:\",transposed) "
   ]
  },
  {
   "cell_type": "code",
   "execution_count": 37,
   "id": "4b36ca94-bf48-4b3a-ad4e-f089769bb54c",
   "metadata": {},
   "outputs": [
    {
     "name": "stdout",
     "output_type": "stream",
     "text": [
      "['123', '99']\n"
     ]
    }
   ],
   "source": [
    "lst= [\"abc123\", \"hello99\"]\n",
    "for i in range(len(lst)): \n",
    "    s=\"\"  \n",
    "    for j in range(len(lst[i])):  \n",
    "        if lst[i][j].isdigit(): \n",
    "             s+=lst[i][j] \n",
    "    lst[i]=s \n",
    "print(lst) "
   ]
  },
  {
   "cell_type": "code",
   "execution_count": null,
   "id": "ae0dc4bd-0255-4fa1-a39a-bf051abfdf34",
   "metadata": {},
   "outputs": [],
   "source": []
  }
 ],
 "metadata": {
  "kernelspec": {
   "display_name": "Python 3 (ipykernel)",
   "language": "python",
   "name": "python3"
  },
  "language_info": {
   "codemirror_mode": {
    "name": "ipython",
    "version": 3
   },
   "file_extension": ".py",
   "mimetype": "text/x-python",
   "name": "python",
   "nbconvert_exporter": "python",
   "pygments_lexer": "ipython3",
   "version": "3.11.9"
  }
 },
 "nbformat": 4,
 "nbformat_minor": 5
}
