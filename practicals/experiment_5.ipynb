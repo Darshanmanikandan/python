{
 "cells": [
  {
   "cell_type": "code",
   "execution_count": 4,
   "id": "c523d541-6ac7-4582-a10d-75651d57814b",
   "metadata": {},
   "outputs": [
    {
     "name": "stdin",
     "output_type": "stream",
     "text": [
      "enter your username:  darshan\n"
     ]
    },
    {
     "name": "stdout",
     "output_type": "stream",
     "text": [
      "True\n"
     ]
    }
   ],
   "source": [
    "def check(name):  \n",
    "    if len(name) > 12: \n",
    "         return False  \n",
    "    if name.isalnum() == False: \n",
    "         return False  \n",
    "    return True \n",
    "name = input(\"enter your username: \") \n",
    "print(check(name)) "
   ]
  },
  {
   "cell_type": "code",
   "execution_count": 1,
   "id": "846ebbee-6307-4318-a56e-918fef8c3ab8",
   "metadata": {},
   "outputs": [
    {
     "name": "stdin",
     "output_type": "stream",
     "text": [
      "enter your email:  john.doe@example.com\n"
     ]
    },
    {
     "name": "stdout",
     "output_type": "stream",
     "text": [
      "jo****@example.com\n"
     ]
    }
   ],
   "source": [
    "email= input(\"enter your email: \") \n",
    "masked= email.split('@') \n",
    "print(masked[0][0:2]+'****'+'@'+masked[1]) "
   ]
  },
  {
   "cell_type": "code",
   "execution_count": 23,
   "id": "77e4d0df-0e90-43e9-a937-84f4b9810496",
   "metadata": {},
   "outputs": [
    {
     "name": "stdin",
     "output_type": "stream",
     "text": [
      "Enter a string:  darshan\n"
     ]
    },
    {
     "name": "stdout",
     "output_type": "stream",
     "text": [
      "Given string ignoring case, spaces, and punctuation:  darshan\n",
      "Reversed string: nahsrad\n",
      "Not palindrome\n"
     ]
    }
   ],
   "source": [
    "def palin(s): \n",
    "    s1=\"\" \n",
    "    for i in s: \n",
    "        if i.isalpha()==True:       \n",
    "            s1=s1+i.lower() \n",
    "    str2=s1[::-1] \n",
    "    print(\"Given string ignoring case, spaces, and punctuation: \",s1)  \n",
    "    print(\"Reversed string:\",str2) \n",
    "    if s1==str2: \n",
    "       print(\"Palindrome\") \n",
    "    else: \n",
    "       print(\"Not palindrome\") \n",
    "str1 = input(\"Enter a string: \")\n",
    "palin(str1) "
   ]
  },
  {
   "cell_type": "code",
   "execution_count": 24,
   "id": "1518edee-01db-457f-910e-e2e5f590dde0",
   "metadata": {},
   "outputs": [
    {
     "name": "stdin",
     "output_type": "stream",
     "text": [
      "Enter a title:  atomic habits\n"
     ]
    },
    {
     "name": "stdout",
     "output_type": "stream",
     "text": [
      "Atomic Habits\n"
     ]
    }
   ],
   "source": [
    "def title_fun(title):  \n",
    "    title=title.title() \n",
    "    print(title) \n",
    "title = input(\"Enter a title: \")\n",
    "title_fun(title) "
   ]
  },
  {
   "cell_type": "code",
   "execution_count": 25,
   "id": "41bb1bfe-8c6e-4f39-870f-76ad2eeb323a",
   "metadata": {},
   "outputs": [
    {
     "name": "stdin",
     "output_type": "stream",
     "text": [
      "Enter a paragraph:  this is a great day in my life \n",
      "Enter a word: is\n"
     ]
    },
    {
     "name": "stdout",
     "output_type": "stream",
     "text": [
      "No of times  is occured: 2\n"
     ]
    }
   ],
   "source": [
    "para= input(\"Enter a paragraph: \") \n",
    "word= input(\"Enter a word:\") \n",
    "count = para.count(word) \n",
    "print(\"No of times \",word,\"occured:\",count) "
   ]
  },
  {
   "cell_type": "code",
   "execution_count": 26,
   "id": "069b730d-871d-48f4-9ceb-9aa3320a9eec",
   "metadata": {},
   "outputs": [
    {
     "name": "stdin",
     "output_type": "stream",
     "text": [
      "Enter a block of text:\n",
      " this is what you see in the screen\n"
     ]
    },
    {
     "name": "stdout",
     "output_type": "stream",
     "text": [
      "You entered:\n",
      "\n",
      "this is what you see in the screen\n"
     ]
    }
   ],
   "source": [
    "text = input(\"Enter a block of text:\\n\") \n",
    "print(\"You entered:\\n\")\n",
    "print(text) "
   ]
  },
  {
   "cell_type": "code",
   "execution_count": null,
   "id": "f086b977-cf77-461b-a8fa-3665239e0bbd",
   "metadata": {},
   "outputs": [],
   "source": []
  }
 ],
 "metadata": {
  "kernelspec": {
   "display_name": "Python 3 (ipykernel)",
   "language": "python",
   "name": "python3"
  },
  "language_info": {
   "codemirror_mode": {
    "name": "ipython",
    "version": 3
   },
   "file_extension": ".py",
   "mimetype": "text/x-python",
   "name": "python",
   "nbconvert_exporter": "python",
   "pygments_lexer": "ipython3",
   "version": "3.11.9"
  }
 },
 "nbformat": 4,
 "nbformat_minor": 5
}
